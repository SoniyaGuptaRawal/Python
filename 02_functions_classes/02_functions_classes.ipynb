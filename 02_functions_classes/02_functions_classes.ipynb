{
 "cells": [
  {
   "cell_type": "markdown",
   "metadata": {},
   "source": [
    "# Functions and Classes\n",
    "\n",
    "*Or, as the late Sean Connery would put it: \"functionsh and clashshesh\".*\n",
    "\n",
    "You've already seen functions: They comprised a few lines of code that you wrote to complete a specific *function*. They could take inputs, and could return outputs. Perhaps more to your surprise, you've also seen classes already! This is because the classes were inside Python's variable types all along!\n",
    "\n",
    "Put in a slightly less confusing way: Classes are a lot like functions, in that they encapsulate some specific thing. However, classes are a bit more complex, in that they themselves can have functions (\"methods\") and variables (\"properties\").\n",
    "\n",
    "In this notebook, you're going to practice with functions. After that, you're going to learn about classes too."
   ]
  },
  {
   "cell_type": "markdown",
   "metadata": {},
   "source": [
    "## Write your own functions\n",
    "\n",
    "As you might recall from the previous notebook, functions need to be defined. For convenience's sake, here's the template for a function definition:"
   ]
  },
  {
   "cell_type": "code",
   "execution_count": null,
   "metadata": {},
   "outputs": [],
   "source": [
    "def funtion_name(input_a, input_b):\n",
    "    \"\"\"This DOCSTRING explains what the function does.\"\"\"\n",
    "\n",
    "    # Do something here, for example adding the inputs.\n",
    "    output = input_a + input_b\n",
    "    \n",
    "    # Produce output by returning it.\n",
    "    return output"
   ]
  },
  {
   "cell_type": "markdown",
   "metadata": {},
   "source": [
    "#### Assignment 1\n",
    "\n",
    "Create a function named `sum_this` that does the following things:\n",
    "\n",
    "1. Take a single input argument, which should be a list of numbers.\n",
    "2. Check if the input is a list or a tuple.\n",
    "3. Adds up all the numbers in the input list.\n",
    "4. Returns the summed total as an output.\n",
    "\n",
    "A bit of the function has already been written for you, but you need to complete it:"
   ]
  },
  {
   "cell_type": "code",
   "execution_count": null,
   "metadata": {},
   "outputs": [],
   "source": [
    "def sum_this(num_list):\n",
    "    \n",
    "    \"\"\"Takes a list of numbers, and sums them.\n",
    "    \"\"\"\n",
    "    \n",
    "    # Check if the list is a list or a tuple.\n",
    "    if type(num_list) not in [list, tuple]:\n",
    "        # Return nothing, because this function\n",
    "        # should only take lists or tuples.\n",
    "        return None\n",
    "    \n",
    "    # Start with a sum of 0.\n",
    "    s = 0\n",
    "    # TODO: For-loop through all numbers in the \n",
    "    # list. Add each number to the total.\n",
    "    \n",
    "    # Return the sum.\n",
    "    return s"
   ]
  },
  {
   "cell_type": "markdown",
   "metadata": {},
   "source": [
    "After completing the function, run the cell with the definition"
   ]
  },
  {
   "cell_type": "code",
   "execution_count": null,
   "metadata": {},
   "outputs": [],
   "source": [
    "num_list = [1, 2, 3, 4, 5, 6, 7, 8, 9]\n",
    "\n",
    "num_sum = sum_this(num_list)\n",
    "print(\"The sum is: {}\".format(num_sum))"
   ]
  },
  {
   "cell_type": "markdown",
   "metadata": {},
   "source": [
    "#### Assignment 2\n",
    "\n",
    "Create a function that computes the average of a list of values. Your function needs to do the following things:\n",
    "\n",
    "1. Check if the input is a list or a tuple.\n",
    "2. If the list is NOT a list or a tuple, return `None`\n",
    "3. Start with sum value `0.0`.\n",
    "4. For loop through all elements of the list, and add each to the sum.\n",
    "5. Divide the sum by the number of values in the list. You can use the `len` function for this."
   ]
  },
  {
   "cell_type": "code",
   "execution_count": null,
   "metadata": {},
   "outputs": [],
   "source": [
    "def average(num_list):\n",
    "    \n",
    "    # TODO: Check if the input is a list or a tuple.\n",
    "        # TODO: If the input is not a list/tuple, return None.\n",
    "    \n",
    "    # Start with a 0 sum.\n",
    "    s = 0.0\n",
    "    # TODO: For loop through all the numbers in the list.\n",
    "        # TODO: Add the current value to the sum.\n",
    "    \n",
    "    # TODO: Divide the sum by the number of elements in the list.\n",
    "    \n",
    "    # TODO: Return the average value."
   ]
  },
  {
   "cell_type": "markdown",
   "metadata": {},
   "source": [
    "After completing the definition, run the block above. Then test it out on the code block below:"
   ]
  },
  {
   "cell_type": "code",
   "execution_count": null,
   "metadata": {},
   "outputs": [],
   "source": [
    "num_list = [5, 5, 5, 5, 5]\n",
    "avg = average(num_list)\n",
    "print(\"Average of {} is {}\".format(num_list, avg))\n",
    "\n",
    "num_list = [1, 2, 3, 4, 5]\n",
    "avg = average(num_list)\n",
    "print(\"Average of {} is {}\".format(num_list, avg))"
   ]
  },
  {
   "cell_type": "markdown",
   "metadata": {},
   "source": [
    "#### Assignment 3\n",
    "\n",
    "Create a function that can computes a greyscale value for an RGB value, following CCIR 601.\n",
    "\n",
    "WHAT?!\n",
    "\n",
    "OK, so this needs some background knowledge. First, you need to know that pixel values are represented by red, green, and blue colour values. These are denoted as RGB, and the values frequently come in the range 0 to 255 (but you might also see 0 to 1, or other ranges). For example, red would be (255,0,0), green (0,255,0), white (255,255,255), and black (0,0,0).\n",
    "\n",
    "So each pixel in a colour image is represented by an RGB triplet. To convert such an image to greyscale, you might be tempted to simply average the red, green, and blue values. While that would work to some extend, you might find that the resulting image doesn't really match your own perception of the original colour image. This is because humans do not perceive red, green, and blue in the same ways.\n",
    "\n",
    "*On top of this, the way computer screens work is a bit funky and non-linear. We'll ignore this for now, and assume we're working with a lab computer that has been linearised (gamma, as in $\\gamma$, set to 1). Ask a vision nerd if you'd like to know more.*\n",
    "\n",
    "The CCIR 601 guidance tells us to use the following conversion from RGB:\n",
    "\n",
    "$Y' = 0.299 R' + 0.587 G' + 0.114 B'$\n",
    "\n",
    "*(assume that $R=R'$, which is true for $\\gamma=1$)*\n",
    "\n",
    "Your function has to perform the following steps:\n",
    "\n",
    "1. Take R, G, and B as input values.\n",
    "2. Compute the Y value.\n",
    "3. Round the Y value is rounded to the nearest integer value. You can use the `round` function for this.\n",
    "4. Make sure the Y value is an integer type. You can use `int` for this.\n",
    "5. Return the Y value.\n",
    "\n",
    "Now you can finish the function below:"
   ]
  },
  {
   "cell_type": "code",
   "execution_count": null,
   "metadata": {},
   "outputs": [],
   "source": [
    "def rgb2grey(r, g, b):\n",
    "    \n",
    "    # TODO: Compute the grey value.\n",
    "    \n",
    "    # TODO: Round the computer value.\n",
    "    \n",
    "    # TODO: Make sure the grey value is an integer.\n",
    "\n",
    "    # TODO: Return the grey value.\n"
   ]
  },
  {
   "cell_type": "markdown",
   "metadata": {},
   "source": [
    "After completing the function, you can test it below:"
   ]
  },
  {
   "cell_type": "code",
   "execution_count": null,
   "metadata": {},
   "outputs": [],
   "source": [
    "# Test with hot pink (255, 104, 180)\n",
    "pink = rgb2grey(255, 104, 180)\n",
    "print(\"Pink converts to: {}\".format(pink))\n",
    "\n",
    "# Test with black (0,0,0)\n",
    "black = rgb2grey(0, 0, 0)\n",
    "print(\"Black converts to: {}\".format(black))\n",
    "\n",
    "# Test with demigrey (127,127,127)\n",
    "demigrey = rgb2grey(127, 127, 127)\n",
    "print(\"Demigrey converts to: {}\".format(demigrey))\n",
    "\n",
    "# Test with white (255,255,255)\n",
    "white = rgb2grey(255, 255, 255)\n",
    "print(\"White converts to: {}\".format(white))"
   ]
  },
  {
   "cell_type": "markdown",
   "metadata": {},
   "source": [
    "#### Assignment 4\n",
    "\n",
    "Write a function to compute the standard deviation of a list of values. Your function should do the following things:\n",
    "\n",
    "1. Take a list of numbers as input.\n",
    "2. Compute the average of the number list.\n",
    "3. Start with a sum of 0.\n",
    "4. For each element in the list, compute the difference between the number and the average of all numbers, and then square the difference. (Tip: You can use `value**2` to square a value, e.g. `3**2`)\n",
    "5. Add the squared difference to the sum.\n",
    "6. Divide the sum by the number of values in the list.\n",
    "7. Take the square root of the value computed in the previous step. (Tip: You can use `import math` and then `math.sqrt` for computing the square root of a value.)"
   ]
  },
  {
   "cell_type": "code",
   "execution_count": null,
   "metadata": {},
   "outputs": [],
   "source": [
    "def standard_deviation(num_list):\n",
    "    \n",
    "    # TODO: Write your own function!"
   ]
  },
  {
   "cell_type": "markdown",
   "metadata": {},
   "source": [
    "After writing the definition, and running the cell, you can try it on the following list of numbers. The average should be about 100, and the standard deviation around 15."
   ]
  },
  {
   "cell_type": "code",
   "execution_count": null,
   "metadata": {},
   "outputs": [],
   "source": [
    "num_list = [108, 86, 93, 98, 103, 108, 95, \n",
    "    111, 103, 86, 103, 80, 128, 98, 110, \n",
    "    86, 115, 104, 93, 115, 87, 117, 112, 97, \n",
    "    118, 101, 67, 105, 94, 105, 97, 104, 94, \n",
    "    84, 85, 114, 121, 93, 117, 82, 97, 67, \n",
    "    105, 99, 112, 96, 90, 75, 115, 83, 90, \n",
    "    98, 113, 82, 101, 68, 106, 99, 104, 126,\n",
    "    79, 138, 89, 88, 100, 97, 103, 106, 102, \n",
    "    82, 98, 106, 98, 116, 98, 118, 71, 93, \n",
    "    88, 86, 133, 103, 60, 99, 83, 92, 87, \n",
    "    100, 95, 124, 76, 90, 101, 117, 74, 77, \n",
    "    77, 106, 78, 120]\n",
    "\n",
    "sd = standard_deviation(num_list)\n",
    "print(\"SD={}\".format(round(sd, ndigits=2)))"
   ]
  },
  {
   "cell_type": "markdown",
   "metadata": {},
   "source": [
    "## Classes and object-oriented programming\n",
    "\n",
    "You can think of a class like a blueprint. It describes how to construct an object, and what that object can do. In real life, you could think of a generic car as a class. The class `car` describes how it has four wheels, a windshield, an engine, a steering wheel, etc (**properties**); but also how its mechanic responds when you push the gas pedal, or turn the wheel (**methods**). You can use the class `car` to build a car object.\n",
    "\n",
    "Usually there will be some flexibility with classes. In our car example, the class will have some default properties, but by changing those you could elect to give the car bigger or smaller wheels, tinted windows, or a flashy colour.\n",
    "\n",
    "Mind you, the `car` class incorporates several other classes: the `engine` class, the `wheel` class, etc. One class does not have to be made up purely of basic building blocks like integers and floats, but can be constructed with anything you like. (In fact, in Python it's classes all the way down, as even `int` and `float` and all the others are classes too!)\n",
    "\n",
    "In programming lingo, a **class** definition comes with several **properties**, which are bound variables available to the class, and **methods**, bound functions. You can use these classes to create **objects** from, which are sometimes referred to as **instances**."
   ]
  },
  {
   "cell_type": "markdown",
   "metadata": {},
   "source": [
    "#### Classes you didn't know you knew, you know?\n",
    "\n",
    "Because Python's variable types are secretly types of classes, they come with their own methods. This is great, because it means you can practice with methods without having to first define your own class.\n",
    "\n",
    "The only difference between methods and functions, is that methods are bound functions. They are specific to a class, and therefore available only through instances from that class. In practice, this means you'll call them with a slightly different syntax. Instead of simply calling `my_function`, you instead call `my_instance.my_function`.\n",
    "\n",
    "For example, let's take the string method `upper`, which capitalises all letters in a string:"
   ]
  },
  {
   "cell_type": "code",
   "execution_count": null,
   "metadata": {},
   "outputs": [],
   "source": [
    "normal_sentence = \"I'm not shouting, you're shouting!\"\n",
    "print(normal_sentence)\n",
    "loud_sentence = normal_sentence.upper()\n",
    "print(loud_sentence)"
   ]
  },
  {
   "cell_type": "markdown",
   "metadata": {},
   "source": [
    "Just like many other functions, `upper` returned output. Unlike other functions, it didn't need any input, because the input string was already known to the instance `normal_sentence`. Other than that, the only difference was that you called the function by using the full stop notation `normal_sentence.upper` instead of simply `upper`."
   ]
  },
  {
   "cell_type": "markdown",
   "metadata": {},
   "source": [
    "#### Other useful methods\n",
    "\n",
    "Strings come with several very useful methods:"
   ]
  },
  {
   "cell_type": "code",
   "execution_count": null,
   "metadata": {},
   "outputs": [],
   "source": [
    "a = \"1989\"\n",
    "b = \"test1989\"\n",
    "c = \"test1989!\"\n",
    "d = \"1.20\"\n",
    "\n",
    "print(\"The isalnum function tests if a string is alphanumerical:\")\n",
    "print(\"Variable a has only numbers and/or letters is {}\".format(a.isalnum()))\n",
    "print(\"Variable b has only numbers and/or letters is {}\".format(b.isalnum()))\n",
    "print(\"Variable c has only numbers and/or letters is {}\".format(c.isalnum()))\n",
    "print(\"Variable d has only numbers and/or letters is {}\".format(d.isalnum()))\n",
    "print(\"The isdigit function tests if a string is all digits:\")\n",
    "print(\"Variable a has only digits is {}\".format(a.isdigit()))\n",
    "print(\"Variable b has only digits is {}\".format(b.isdigit()))\n",
    "print(\"Variable c has only digits is {}\".format(c.isdigit()))\n",
    "print(\"Variable d has only digits is {}\".format(d.isdigit()))\n",
    "\n",
    "test = \"this is a NORMAL string\"\n",
    "print(test.upper())\n",
    "print(test.lower())\n",
    "print(test.capitalize())\n",
    "print(test.title())"
   ]
  },
  {
   "cell_type": "markdown",
   "metadata": {},
   "source": [
    "In addition, you can use methods to find things in strings or lists:"
   ]
  },
  {
   "cell_type": "code",
   "execution_count": null,
   "metadata": {},
   "outputs": [],
   "source": [
    "robots = \"R2D2,C3PO,Henk,Terminator,that one in the shed,HAL 9000\"\n",
    "# Find will give you the index at which the searched string starts.\n",
    "c3po_index = robots.find(\"C3PO\")\n",
    "print(\"C3PO starts at index {}\".format(c3po_index))"
   ]
  },
  {
   "cell_type": "markdown",
   "metadata": {},
   "source": [
    "There are also methods to split strings, which can be very useful in a comma-separated string like from the previous example:"
   ]
  },
  {
   "cell_type": "code",
   "execution_count": null,
   "metadata": {},
   "outputs": [],
   "source": [
    "# The split method will return a list after cutting the string\n",
    "# into pieces around the character(s). In this case, we split\n",
    "# the string up at the commas.\n",
    "robot_names = robots.split(\",\")\n",
    "print(robot_names)"
   ]
  },
  {
   "cell_type": "markdown",
   "metadata": {},
   "source": [
    "## Defining your own class\n",
    "\n",
    "This is slightly advanced, and not something that is absolutely necessary. In fact, you can probably get by using only your own variables and functions. However, it is good to be aware of how to define classes, as they could be quite useful!\n",
    "\n",
    "The general outline of a class definition is as follows. Note the `__init__` function, which is called when you first create an instance from this class. It tells the class how to initialise itself. The next important thing is `self`. This is a variable made by a class, and available within the class. It needs to be passed to each method within the class if that method is to use any of the class' bound variables or functions."
   ]
  },
  {
   "cell_type": "code",
   "execution_count": null,
   "metadata": {},
   "outputs": [],
   "source": [
    "class Dog:\n",
    "    \n",
    "    def __init__(self, dog_size, bark=\"woof\"):\n",
    "        \n",
    "        # Save the passed dog_size variable.\n",
    "        self.size = dog_size\n",
    "        \n",
    "        # Set the dog's bark sound.\n",
    "        self.bark_sound = bark\n",
    "    \n",
    "    def bark(self):\n",
    "        \n",
    "        \"\"\"What type of bark the dog produces\n",
    "        depends on its size.\n",
    "        \"\"\"\n",
    "\n",
    "        # Small dogs bark a LOT.\n",
    "        if self.size <= 5:\n",
    "            bark_string = 5*self.bark_sound\n",
    "        # Large dogs bark loudly\n",
    "        elif self.size > 10:\n",
    "            bark_string = self.bark_sound.upper()\n",
    "        # Other dogs simply bark.\n",
    "        else:\n",
    "            bark_string = self.bark_sound.capitalize() + \"!\"\n",
    "        \n",
    "        print(bark_string)"
   ]
  },
  {
   "cell_type": "markdown",
   "metadata": {},
   "source": [
    "After running the above, you can use the `Dog` class like any other:"
   ]
  },
  {
   "cell_type": "code",
   "execution_count": null,
   "metadata": {},
   "outputs": [],
   "source": [
    "small_dog = Dog(3)\n",
    "small_dog.bark()\n",
    "medium_dog = Dog(7)\n",
    "medium_dog.bark()\n",
    "big_dog = Dog(15)\n",
    "big_dog.bark()\n",
    "\n",
    "# Create a few foreign dogs.\n",
    "chien = Dog(8, bark=\"wouaff\")\n",
    "chien.bark()\n",
    "hond = Dog(9, bark=\"woef\")\n",
    "hond.bark()"
   ]
  }
 ],
 "metadata": {
  "kernelspec": {
   "display_name": "Python 3",
   "language": "python",
   "name": "python3"
  },
  "language_info": {
   "codemirror_mode": {
    "name": "ipython",
    "version": 3
   },
   "file_extension": ".py",
   "mimetype": "text/x-python",
   "name": "python",
   "nbconvert_exporter": "python",
   "pygments_lexer": "ipython3",
   "version": "3.7.6"
  }
 },
 "nbformat": 4,
 "nbformat_minor": 4
}
