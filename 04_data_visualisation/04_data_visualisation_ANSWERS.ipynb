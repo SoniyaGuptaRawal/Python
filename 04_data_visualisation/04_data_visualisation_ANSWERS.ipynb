{
 "cells": [
  {
   "cell_type": "markdown",
   "metadata": {},
   "source": [
    "# Data visualisation\n",
    "\n",
    "For data visualisation, you will be using the `matplotlib` package. Like `numpy`, this is an external package that can be used with Python. It allows you to produce graphics, and has *many* options for customisation. If you're viewing this page through MyBinder or Google Colab, Matplotlib has already been installed for you. If you're working along using the Anaconda distribution, Matplotlib is also included. Otherwise, you'll have to install it before continuing.\n",
    "\n",
    "You can import matplotlib into Python with `import matplotlib`, but today you will mostly be using it's submodule `pyplot`, which you can import like this:"
   ]
  },
  {
   "cell_type": "code",
   "execution_count": null,
   "metadata": {},
   "outputs": [],
   "source": [
    "from matplotlib import pyplot"
   ]
  },
  {
   "cell_type": "markdown",
   "metadata": {},
   "source": [
    "Some people like to abbreviate this. As with `numpy` and `np`, this can make your code harder to read (although the abbreviation is so commonplace that many people will recognise it), but it will make writing a bit quicker."
   ]
  },
  {
   "cell_type": "code",
   "execution_count": null,
   "metadata": {},
   "outputs": [],
   "source": [
    "from matplotlib import pyplot as plt"
   ]
  },
  {
   "cell_type": "markdown",
   "metadata": {},
   "source": [
    "#### Loading the dataset on Google Colab\n",
    "\n",
    "Ignore this if you're copying code into your own Python installation, or if you're doing this on MyBinder. If you're on Google Colab, follow these steps:\n",
    "\n",
    "1. Download the relevant files to your computer. They can be downloaded via [this link](https://github.com/esdalmaijer/PyBrain_Python_Intro/blob/main/files_for_google_colab/files_for_google_colab.zip)\n",
    "2. Unzip the archive you downloaded at step 1.\n",
    "3. Go to your Google Drive and create the folder `PyBrain`. (You can name it differently if you want to, but if you do, make sure to change the name in the following code too.)\n",
    "4. Upload your files to Google Drive, into the `PyBrain` folder.\n",
    "5. Now run the code below. This should provide you with a prompt. Click on the URL, allow access, and then copy the code you were given into the prompt."
   ]
  },
  {
   "cell_type": "code",
   "execution_count": null,
   "metadata": {},
   "outputs": [],
   "source": [
    "from google.colab import drive\n",
    "drive.mount(\"/content/drive\")"
   ]
  },
  {
   "cell_type": "code",
   "execution_count": null,
   "metadata": {},
   "outputs": [],
   "source": [
    "# Run this if you are on Google Colab:\n",
    "\n",
    "import numpy\n",
    "\n",
    "# Set the path to the data on Google Colab.\n",
    "file_name = \"/content/drive/My Drive/PyBrain/example.csv\"\n",
    "\n",
    "# Load the data.\n",
    "my_data = numpy.loadtxt(file_name, delimiter=\",\",\n",
    "    skiprows=1)\n",
    "\n",
    "# Split the data into x, y, and z values.\n",
    "ppnr = x = my_data[:,0]\n",
    "x = my_data[:,1]\n",
    "y = my_data[:,2]\n",
    "z = my_data[:,3]"
   ]
  },
  {
   "cell_type": "markdown",
   "metadata": {},
   "source": [
    "#### Loading the dataset\n",
    "\n",
    "If you're NOT on Google Colab, please use the following code. Before we start, load a simple dataset:"
   ]
  },
  {
   "cell_type": "code",
   "execution_count": null,
   "metadata": {},
   "outputs": [],
   "source": [
    "import numpy\n",
    "\n",
    "my_data = numpy.loadtxt(\"example.csv\", delimiter=\",\",\n",
    "    skiprows=1)\n",
    "\n",
    "# Split the data into x, y, and z values.\n",
    "ppnr = x = my_data[:,0]\n",
    "x = my_data[:,1]\n",
    "y = my_data[:,2]\n",
    "z = my_data[:,3]"
   ]
  },
  {
   "cell_type": "markdown",
   "metadata": {},
   "source": [
    "## Scatter plots\n",
    "\n",
    "There are two ways to create scatterplots. The first one is by using the `plot` function:"
   ]
  },
  {
   "cell_type": "code",
   "execution_count": null,
   "metadata": {},
   "outputs": [],
   "source": [
    "pyplot.plot(x, y, \"o\")"
   ]
  },
  {
   "cell_type": "markdown",
   "metadata": {},
   "source": [
    "This is a bit simple, so let's get funky! You can customise the colours, the type of markers, their size, and their opacity (alpha):"
   ]
  },
  {
   "cell_type": "code",
   "execution_count": null,
   "metadata": {},
   "outputs": [],
   "source": [
    "pyplot.plot(x, y, \"o\", color=\"#FF69B4\", marker=\">\", \n",
    "    markersize=20, alpha=0.2)"
   ]
  },
  {
   "cell_type": "markdown",
   "metadata": {},
   "source": [
    "You can also create scatterplots by using the `scatter` function:"
   ]
  },
  {
   "cell_type": "code",
   "execution_count": null,
   "metadata": {},
   "outputs": [],
   "source": [
    "pyplot.scatter(x, y, marker=\"o\", color=\"red\")"
   ]
  },
  {
   "cell_type": "markdown",
   "metadata": {},
   "source": [
    "Here, you can play around with the marker sizes by passing a NumPy array. For example, you can scale them according to their `z` values."
   ]
  },
  {
   "cell_type": "code",
   "execution_count": null,
   "metadata": {},
   "outputs": [],
   "source": [
    "# Make sure all marker sizes are over 1.\n",
    "marker_size = z + abs(numpy.min(z)) + 1\n",
    "# Plot the points.\n",
    "pyplot.scatter(x, y, s=marker_size*15, marker=\"o\", color=\"red\")"
   ]
  },
  {
   "cell_type": "markdown",
   "metadata": {},
   "source": [
    "## Line plots\n",
    "\n",
    "The same `plot` can be used to create line plots:"
   ]
  },
  {
   "cell_type": "code",
   "execution_count": null,
   "metadata": {},
   "outputs": [],
   "source": [
    "x_values = numpy.linspace(0, 8*numpy.pi, 1000)\n",
    "y1 = numpy.sin(x_values)\n",
    "y2 = numpy.cos(x_values)\n",
    "pyplot.plot(x_values, y1, \"-\", lw=3, color=\"red\")\n",
    "pyplot.plot(x_values, y2, \"-\", lw=3, color=\"green\")"
   ]
  },
  {
   "cell_type": "markdown",
   "metadata": {},
   "source": [
    "You can add labels to your plot, and automatically turn them into a legend:"
   ]
  },
  {
   "cell_type": "code",
   "execution_count": null,
   "metadata": {},
   "outputs": [],
   "source": [
    "pyplot.plot(x_values, y1, \"-\", lw=3, color=\"red\", label=\"sin\")\n",
    "pyplot.plot(x_values, y2, \"-\", lw=3, color=\"green\", label=\"cos\")\n",
    "pyplot.legend()"
   ]
  },
  {
   "cell_type": "markdown",
   "metadata": {},
   "source": [
    "In addition to the legend, you can add axis labels too:"
   ]
  },
  {
   "cell_type": "code",
   "execution_count": null,
   "metadata": {},
   "outputs": [],
   "source": [
    "pyplot.plot(x_values, y1, \"-\", lw=3, color=\"red\", label=\"sin\")\n",
    "pyplot.plot(x_values, y2, \"-\", lw=3, color=\"green\", label=\"cos\")\n",
    "pyplot.legend()\n",
    "pyplot.xlabel(\"X values\", fontsize=14)\n",
    "pyplot.ylabel(\"Y values\", fontsize=14)"
   ]
  },
  {
   "cell_type": "markdown",
   "metadata": {},
   "source": [
    "#### Saving figures\n",
    "\n",
    "While directly using `pyplot` functions for drawing operations, it is often neater to create a figure instance and use its methods. This is actually very similar:"
   ]
  },
  {
   "cell_type": "code",
   "execution_count": null,
   "metadata": {},
   "outputs": [],
   "source": [
    "# Create a new figure. The size is in inches.\n",
    "# You can also set the DPI (dots per inch).\n",
    "fig = pyplot.figure(figsize=(8.0, 6.0), dpi=100)\n",
    "# Add an axis to draw in the figure. Give it a\n",
    "# 15% border by making it start at 0.15 left and\n",
    "# right, and giving it a width and height of 0.7.\n",
    "ax = fig.add_axes([0.15,0.15,0.7,0.7])\n",
    "\n",
    "# Now plot the data into the axes.\n",
    "ax.plot(x_values, y1, \"-\", lw=3, color=\"red\", label=\"sin\")\n",
    "ax.plot(x_values, y2, \"-\", lw=3, color=\"green\", label=\"cos\")\n",
    "# Draw the legend.\n",
    "ax.legend(loc=\"lower left\", fontsize=14)\n",
    "# Set the axis labels. Note that these functions\n",
    "# are named subtly differently: set_xlabel\n",
    "ax.set_xlabel(\"X values\", fontsize=18)\n",
    "ax.set_ylabel(\"Y values\", fontsize=18)"
   ]
  },
  {
   "cell_type": "markdown",
   "metadata": {},
   "source": [
    "If you were running this on your local computer, you could easily save the figure by calling the `savefig` method:"
   ]
  },
  {
   "cell_type": "code",
   "execution_count": null,
   "metadata": {},
   "outputs": [],
   "source": [
    "fig.savefig(\"my_figure.png\")"
   ]
  },
  {
   "cell_type": "markdown",
   "metadata": {},
   "source": [
    "## Histograms\n",
    "\n",
    "Histograms count the numbers of observations within each `bin`: a section of the space that the data is in. To make them, you can combine NumPy's `histogram` function with Matplotlib's `bar` function. First, create a histogram:"
   ]
  },
  {
   "cell_type": "code",
   "execution_count": null,
   "metadata": {},
   "outputs": [],
   "source": [
    "# Create a histogram of the data by using NumPy's \"histogram\" function.\n",
    "# Note that this does not produce a plot just yet! You can set the number\n",
    "# of bins that you would like to divide the data over, and the function\n",
    "# will then use that to create the bounds for each bin. The function will\n",
    "# also return the number of observations in each bin.\n",
    "hist, bin_bounds = numpy.histogram(x, bins=10)"
   ]
  },
  {
   "cell_type": "markdown",
   "metadata": {},
   "source": [
    "We just allowed NumPy to choose the bin edges, which should generate equal-sized bins. You also have the option to choose the bin edges yourself, or to have them be determined by an algorithm.\n",
    "\n",
    "Let's see what the bins look like by plotting them in a bar plot. Mind you that the bar plot only needs the left bound of every bin, whereas the `bin_bounds` contains the left bound of every bin AND the right bound of the last bin. You can select all the bounds but the last one by *indexing* or *slicing* the `bin_bounds` variable like this: `bin_bounds[0:-1]`. It means \"*From bin_bounds, select all values from position 0 to position -1 (the last position from the end), not inclusive of the end point.*\""
   ]
  },
  {
   "cell_type": "code",
   "execution_count": null,
   "metadata": {},
   "outputs": [],
   "source": [
    "# Compute the bin width. You can set this as the distance between\n",
    "# each of the bin edges.\n",
    "bin_width = bin_bounds[1] - bin_bounds[0]\n",
    "\n",
    "# Plot the bins using pyplot's bar function. We align the plot at the\n",
    "# left edges, because those are what we obtained from the histogram\n",
    "# function.\n",
    "pyplot.bar(bin_bounds[0:-1], hist, align=\"edge\", width=bin_width)\n",
    "# Finish the plot by adding some information on the x and y axes.\n",
    "pyplot.xlabel(\"Value\", fontsize=16)\n",
    "pyplot.ylabel(\"Number of observations\", fontsize=16)"
   ]
  },
  {
   "cell_type": "markdown",
   "metadata": {},
   "source": [
    "It's clear that the `x` values are spread in a somewhat normal range, centred roughly around 0, and with a standard deviation of roughly 1 maybe?\n",
    "\n",
    "Let's do the same thing for the `y` values..."
   ]
  },
  {
   "cell_type": "code",
   "execution_count": null,
   "metadata": {},
   "outputs": [],
   "source": [
    "# Create a histogram of the y values.\n",
    "hist, bin_bounds = numpy.histogram(y, bins=10)\n",
    "bin_centres = bin_bounds[:-1] + numpy.diff(bin_bounds)/2.0\n",
    "bin_width = bin_bounds[1]-bin_bounds[0]\n",
    "# Plot the bins using pyplot's bar function. We align the plot at the\n",
    "# left edges, because those are what we obtained from the histogram\n",
    "# function. The bin width can be set to 0.1 so that the bins touch.\n",
    "pyplot.bar(bin_centres, hist, align=\"center\", width=bin_width)\n",
    "# Finish the plot by adding some information on the x and y axes.\n",
    "pyplot.xlabel(\"Value\", fontsize=16)\n",
    "pyplot.ylabel(\"Number of observations\", fontsize=16)"
   ]
  },
  {
   "cell_type": "markdown",
   "metadata": {},
   "source": [
    "## Bar plot\n",
    "\n",
    "There's a very high likelihood that you've seen a bar plot before. They're everywhere, from scientific journals to newspapers. Traditionally, bar plots show the mean of each group. In our case, that would look like this:"
   ]
  },
  {
   "cell_type": "code",
   "execution_count": null,
   "metadata": {},
   "outputs": [],
   "source": [
    "# Compute the mean of the groups.\n",
    "m_x = numpy.mean(x)\n",
    "m_y = numpy.mean(y)\n",
    "# Plot both means in a bar plot. The means will determine the groups\n",
    "# position on the y-axis, but the position on the x-axis is something\n",
    "# we need to set ourselves. Let's just go with 0.5 and 1.\n",
    "# Plot the mean of the x group.\n",
    "pyplot.bar(0.5, m_x, width=0.5, label=\"X group\")\n",
    "# Plot the mean of the y group.\n",
    "pyplot.bar(1.0, m_y, width=0.5, label=\"Y group\")\n",
    "\n",
    "# Now finish the plot by adding a sensible y-axis label and a legend.\n",
    "pyplot.ylabel(\"Score\")\n",
    "pyplot.legend()"
   ]
  },
  {
   "cell_type": "markdown",
   "metadata": {},
   "source": [
    "From the current bar plot, it looks like the `x` group is doing very well compared to the `y` group (assuming positive values are better). It also hides that there were any negative values. (Note that the last statement might not entirely be true; sometimes it might randomly happen that the `y` group's average is below 0!)\n",
    "\n",
    "In reality, there are values in the `y` group that extend beyond the range of the `x` group. Furthermore, the two groups were drawn from different types of distributions. We don't see that in the plot."
   ]
  },
  {
   "cell_type": "markdown",
   "metadata": {},
   "source": [
    "## Error bars\n",
    "\n",
    "One way to improve bar plots is by adding *error bars*. These bars sit atop of the already plotted bars, and usually indicate the standard error of the mean. (You've already learned about this in the previous practicals. As a reminder, it was a measure of how well the sample reflects the population; i.e. how representative of our `x` group is from the group of all X in the world.)\n",
    "\n",
    "We can compute the standard error by using the formula that you have already seen: Divide the sample standard deviation by the square root of the number of observations in that sample."
   ]
  },
  {
   "cell_type": "code",
   "execution_count": null,
   "metadata": {},
   "outputs": [],
   "source": [
    "# Count the number of observations in each group by taking the length\n",
    "# of the x vector.\n",
    "n_x = len(x)\n",
    "n_y = len(y)\n",
    "# Calculate the standard deviations of each group. Note that we are \n",
    "# calculating the unbiased standard deviation, i.e. the sum of squares\n",
    "# divided by (n-1). This is what the ddof value indicates.\n",
    "sd_x = numpy.std(x, ddof=1)\n",
    "sd_y = numpy.std(y, ddof=1)\n",
    "# Calculate the standard error of the mean for both groups.\n",
    "sem_x = sd_x / numpy.sqrt(n_x)\n",
    "sem_y = sd_y / numpy.sqrt(n_y)"
   ]
  },
  {
   "cell_type": "markdown",
   "metadata": {},
   "source": [
    "Now let's use the calculated standard errors to draw error bars into your bar plot. This is almost the same code as before, but mind the `yerr` keyword argument that specifies the error bar size on the y-axis."
   ]
  },
  {
   "cell_type": "code",
   "execution_count": null,
   "metadata": {},
   "outputs": [],
   "source": [
    "# Plot both means in a bar plot. This is the same code as before, but \n",
    "# with the yerr keyword specified.\n",
    "# Plot the mean of the x group.\n",
    "pyplot.bar(0.5, m_x, yerr=sem_x, width=0.5, label=\"X group\")\n",
    "# Plot the mean of the y group.\n",
    "pyplot.bar(1.0, m_y, yerr=sem_y, width=0.5, label=\"Y group\")\n",
    "\n",
    "# Now finish the plot by adding a sensible y-axis label and a legend.\n",
    "pyplot.ylabel(\"Score\")\n",
    "pyplot.legend()"
   ]
  },
  {
   "cell_type": "markdown",
   "metadata": {},
   "source": [
    "Now, as you are aware, the standard error of the mean indicates how well the sample mean represents the population mean. It's a measure that reflects something about your sampling process, not necessarily about what your data looks like. The plot above thus shows that the two groups might well differ in what their means are, but it doesn't teach you much else.\n",
    "\n",
    "One thing you can do, is use error bars to plot the standard deviation:"
   ]
  },
  {
   "cell_type": "code",
   "execution_count": null,
   "metadata": {},
   "outputs": [],
   "source": [
    "# Plot both means in a bar plot. This is the same code as before, \n",
    "# but now the yerr represents the standard deviation.\n",
    "# Plot the mean of the x group.\n",
    "pyplot.bar(0.5, m_x, yerr=sd_x, width=0.5, label=\"X group\")\n",
    "# Plot the mean of the y group.\n",
    "pyplot.bar(1.0, m_y, yerr=sd_y, width=0.5, label=\"Y group\")\n",
    "\n",
    "# Now finish the plot by adding a sensible y-axis label and a legend.\n",
    "pyplot.ylabel(\"Score\")\n",
    "pyplot.legend()"
   ]
  },
  {
   "cell_type": "markdown",
   "metadata": {},
   "source": [
    "In this plot, it's a bit clearer what the distributions of both groups look like. But it's not pretty... It's quite unclear why the bars are there in the first place, as the only thing they indicate is how far from 0 a group's mean is. In addition, although the standard deviation gives some indication of the spread of each group, we don't quite see what the exact distributions look like: it's just a black line."
   ]
  },
  {
   "cell_type": "markdown",
   "metadata": {},
   "source": [
    "## Are bar plots really that bad?\n",
    "\n",
    "If you haven't seen a lot of datasets, you might not appreciate how summary statistics (mean, median, standard deviation, etcetera) can be misleading. To illustrate just how different datasets can be while having the exact same mean, median, standard deviation, and correlation, please have a look at Alberto Cairo's datasaurus, and a [dozen extremely different plots](https://www.autodeskresearch.com/publications/samestats) that all have the exact same summary statistics:\n",
    "\n",
    "![](datasaurus_alberto_cairo.png)\n",
    "\n",
    "This is why it's important to be aware of the underlying distribution of data, and to not simply rely on summary statistics. Bar plots only show summary statistics, and can thus hide potentially important differences between groups."
   ]
  },
  {
   "cell_type": "markdown",
   "metadata": {},
   "source": [
    "## Box plot\n",
    "\n",
    "One type of plot that *does* reflect properties of distributions is the box plot, or box-and-whiskers plot. It quite literally is two stacked boxes with whiskers on either side. Each element of the plot represents a quartile of the data (that's 25% of the observations). This type of plot thus tells you about each group's median (the 50th percentile lies between the second and third quartile), and gives you a rough idea of what the distribution looks like. Some boxplots also include 'fliers': Values that lie outside the typical range, and could be outliers.\n",
    "\n",
    "Let's draw box plots for our two groups:"
   ]
  },
  {
   "cell_type": "code",
   "execution_count": null,
   "metadata": {},
   "outputs": [],
   "source": [
    "# Draw a box for values from group x and group y. You can pass both \n",
    "# variables at the same time by combining them into a list, i.e. as\n",
    "# [x,y]. The same is true for the labels you would like to associate\n",
    "# with the groups.\n",
    "pyplot.boxplot([x,y], labels=[\"Group X\",\"Group Y\"])"
   ]
  },
  {
   "cell_type": "markdown",
   "metadata": {},
   "source": [
    "This is a pretty good visualisation of the two groups. We can see their central tendency, because the median is represented by the coloured horizontal line. In addition, we can see how observations are spread out. For group `x`, all quartiles are roughly equally big, which demonstrates that the data is uniformly distributed. For group `y`, we can see that the second and third quartile (the boxes) are smaller than the first and fourth quartile (the whiskers). This illustrates that the distribution is denser around the median.\n",
    "\n",
    "What we still can't see from the current plot is what the shape of the distribution is. For example, it seems like group `y` is a normal distribution, but it could also be that all values within the second and third quartile are the same. For example, they could all be -0.5 and 0.5, and it would result in the same box plot."
   ]
  },
  {
   "cell_type": "markdown",
   "metadata": {},
   "source": [
    "## Violin plot\n",
    "\n",
    "Where box plots do not typically reveal the exact shape of a distribution, violin plots are designed to do exactly that. They apply a *kernel density estimate* to characterise the shape of a distribution, and plot that instead of boxes and whiskers. Fliers are still denoted with a different marker (although what is considered a \"flier\" can differ between box plots and violin plots, or more accurately, per what standards are set within the function to draw the plots).\n",
    "\n",
    "Let's see what a violin plot of our two groups would look like:"
   ]
  },
  {
   "cell_type": "code",
   "execution_count": null,
   "metadata": {},
   "outputs": [],
   "source": [
    "# Draw a violin plot for values from group x and group y. As \n",
    "# with the box plot, you can pass both variables at the same\n",
    "# time by combining them into a list, i.e. as [x,y].\n",
    "pyplot.violinplot([x,y], showmeans=True)"
   ]
  },
  {
   "cell_type": "markdown",
   "metadata": {},
   "source": [
    "As you can see, the violin plot gives a much clearer picture of the actual distribution of your data."
   ]
  },
  {
   "cell_type": "markdown",
   "metadata": {},
   "source": [
    "## Choosing a visualisation type\n",
    "\n",
    "As you have seen, different types of data visualisations exist, and each come with their own benefits and downsides. Bar plots can be easily understood, but also give you very little information about what the data underlying an average looks like. In addition, whether or not it makes sense to draw a bar highly depends on what kind of data you're visualising. Adding error bars to bar plots to indicate the standard error of the mean tells you something about the sampling process, whereas adding error bars to indicate the standard deviation tells you something about the sample.\n",
    "\n",
    "If you're interested in visualising distributions in a more detailed way, you could turn to box or violin plots. These provide a clearer picture of what your data look like, and are still quite easy to interpret.\n",
    "\n",
    "What the best type of plot is depends on the data, and on what message you would like your graph to illustrate. If you're simply saying \"these groups have different means\", a bar plot with error bars that indicate the standard error of the mean could work very well. However, if you're trying to illustrate that two groups are from distributions with different properties, you might need to turn to box or violin plots.\n",
    "\n",
    "Finally, you are free to combine plots and types of visualisations. For example, you could simply throw everything into one combined plot:"
   ]
  },
  {
   "cell_type": "code",
   "execution_count": null,
   "metadata": {},
   "outputs": [],
   "source": [
    "# Determine the positions of the two groups' visualisations\n",
    "# on the x-axis.\n",
    "pos = [0.5, 1.5]\n",
    "\n",
    "# Draw violin plots for each group, but don't draw the mean,\n",
    "# median, or extrema.\n",
    "vplot = pyplot.violinplot([x,y], positions=pos, \\\n",
    "    showmeans=False, showmedians=False, showextrema=False)\n",
    "# Set the colour of the violin plot.\n",
    "for violin in vplot[\"bodies\"]:\n",
    "    violin.set_color(\"#FF69B4\")\n",
    "# Draw box plots for each groups on the same positions.\n",
    "bplot = pyplot.boxplot([x,y], positions=pos, \\\n",
    "    labels=[\"Group X\", \"Group Y\"])\n",
    "# Set the colour of horizontal lines that indicate the median\n",
    "# in each box plot.\n",
    "for line in bplot[\"medians\"]:\n",
    "    line.set_color(\"#FF69B4\")\n",
    "\n",
    "# Finally, draw the individual data points for each group. The\n",
    "# points need to be plotted to the right of each of the \n",
    "# box/violin plots. To do so, we first need to create two \n",
    "# vectors that code for the position of each sample from each \n",
    "# group on the x-axis.\n",
    "x_pos = numpy.ones(x.shape) * pos[0] + 0.3\n",
    "y_pos = numpy.ones(y.shape) * pos[1] + 0.3\n",
    "# Then, we simply need to plot the samples. The alpha keyword\n",
    "# indicates the transparancy of each sample.\n",
    "pyplot.plot(x_pos, x, '.', color=\"#FF69B4\", alpha=0.1)\n",
    "pyplot.plot(y_pos, y, '.', color=\"#FF69B4\", alpha=0.1)"
   ]
  },
  {
   "cell_type": "markdown",
   "metadata": {},
   "source": [
    "# Assignments\n",
    "\n",
    "The following assignments combine the previous worksheet on NumPy and data handling with the current on plotting."
   ]
  },
  {
   "cell_type": "markdown",
   "metadata": {},
   "source": [
    "#### Assignment 1: Visual noise\n",
    "\n",
    "Your assignment is to create some random noise, and to plot it using Maplotlib's `imshow` function. Make the noise 300 \"pixels\" wide and 200 high."
   ]
  },
  {
   "cell_type": "code",
   "execution_count": null,
   "metadata": {},
   "outputs": [],
   "source": [
    "# Create a new figure.\n",
    "fig = pyplot.figure()\n",
    "# Add new axes without a border.\n",
    "ax = fig.add_axes([0,0,1,1])\n",
    "\n",
    "# Create random 2-dimensional noise.\n",
    "noise = numpy.random.rand(200,300)\n",
    "\n",
    "# Plot the noise using the imshow function.\n",
    "ax.imshow(noise, cmap=\"gray\")\n",
    "\n",
    "# Save the figure.\n",
    "fig.savefig(\"grey_noise.png\")"
   ]
  },
  {
   "cell_type": "markdown",
   "metadata": {},
   "source": [
    "#### Assignment 2: Colourful noise\n",
    "\n",
    "Create 3-dimensional random noise, and use Matplotlib's `imshow` function to show it. TIP: Don't set the colour map this time."
   ]
  },
  {
   "cell_type": "code",
   "execution_count": null,
   "metadata": {},
   "outputs": [],
   "source": [
    "# Create a new figure.\n",
    "fig = pyplot.figure()\n",
    "# Add new axes without a border.\n",
    "ax = fig.add_axes([0,0,1,1])\n",
    "\n",
    "# Create random 3-dimensional noise.\n",
    "noise = numpy.random.rand(200,300, 3)\n",
    "\n",
    "# Plot the noise using the imshow function.\n",
    "ax.imshow(noise)\n",
    "\n",
    "# Save the figure.\n",
    "fig.savefig(\"colour_noise.png\")"
   ]
  },
  {
   "cell_type": "markdown",
   "metadata": {},
   "source": [
    "#### Assignment 3: Plot the data file\n",
    "\n",
    "The data file you loaded at the start of this worksheet has three features in it. Plot all three features so that they can be compared. Choose the type of plot that you think is best, but make sure to give each feature a different colour."
   ]
  },
  {
   "cell_type": "code",
   "execution_count": null,
   "metadata": {},
   "outputs": [],
   "source": [
    "# Load the data.\n",
    "# NOTE: Change this if you're on Google Colab.\n",
    "my_data = numpy.loadtxt(\"example.csv\", delimiter=\",\",\n",
    "    skiprows=1)\n",
    "\n",
    "# Split the data into x, y, and z values.\n",
    "ppnr = x = my_data[:,0]\n",
    "x = my_data[:,1]\n",
    "y = my_data[:,2]\n",
    "z = my_data[:,3]\n",
    "\n",
    "# Determine the positions of the three groups' visualisations\n",
    "# on the x-axis.\n",
    "pos = [0.5, 1.5, 2.5]\n",
    "# Determine the colours of for the three groups.\n",
    "cols = [\"red\", \"green\", \"blue\"]\n",
    "\n",
    "# Draw violin plots for each group, but don't draw the mean,\n",
    "# median, or extrema.\n",
    "vplot = pyplot.violinplot([x,y,z], positions=pos, \\\n",
    "    showmeans=False, showmedians=False, showextrema=False)\n",
    "# Set the colour of the violin plot.\n",
    "for i, violin in enumerate(vplot[\"bodies\"]):\n",
    "    violin.set_color(cols[i])\n",
    "# Draw box plots for each groups on the same positions.\n",
    "bplot = pyplot.boxplot([x,y,z], positions=pos, \\\n",
    "    labels=[\"Group X\", \"Group Y\", \"Group Z\"])\n",
    "# Set the colour of horizontal lines that indicate the median\n",
    "# in each box plot.\n",
    "for i, line in enumerate(bplot[\"medians\"]):\n",
    "    line.set_color(cols[i])"
   ]
  }
 ],
 "metadata": {
  "kernelspec": {
   "display_name": "Python 3",
   "language": "python",
   "name": "python3"
  },
  "language_info": {
   "codemirror_mode": {
    "name": "ipython",
    "version": 3
   },
   "file_extension": ".py",
   "mimetype": "text/x-python",
   "name": "python",
   "nbconvert_exporter": "python",
   "pygments_lexer": "ipython3",
   "version": "3.7.6"
  }
 },
 "nbformat": 4,
 "nbformat_minor": 4
}
